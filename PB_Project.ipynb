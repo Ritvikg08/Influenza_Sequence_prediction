{
  "nbformat": 4,
  "nbformat_minor": 0,
  "metadata": {
    "colab": {
      "name": "PB_Project.ipynb",
      "provenance": [],
      "collapsed_sections": [],
      "include_colab_link": true
    },
    "kernelspec": {
      "name": "python3",
      "display_name": "Python 3"
    },
    "accelerator": "GPU"
  },
  "cells": [
    {
      "cell_type": "markdown",
      "metadata": {
        "id": "view-in-github",
        "colab_type": "text"
      },
      "source": [
        "<a href=\"https://colab.research.google.com/github/Ritvikg08/Influenza_Sequence_prediction/blob/master/PB_Project.ipynb\" target=\"_parent\"><img src=\"https://colab.research.google.com/assets/colab-badge.svg\" alt=\"Open In Colab\"/></a>"
      ]
    },
    {
      "cell_type": "code",
      "metadata": {
        "id": "djX3gIxByvP9",
        "colab_type": "code",
        "colab": {
          "base_uri": "https://localhost:8080/",
          "height": 139
        },
        "outputId": "e4c3ae17-a439-4f33-f5c2-41725a1f7a9c"
      },
      "source": [
        "!pip install Biopython"
      ],
      "execution_count": null,
      "outputs": [
        {
          "output_type": "stream",
          "text": [
            "Collecting Biopython\n",
            "\u001b[?25l  Downloading https://files.pythonhosted.org/packages/83/3d/e0c8a993dbea1136be90c31345aefc5babdd5046cd52f81c18fc3fdad865/biopython-1.76-cp36-cp36m-manylinux1_x86_64.whl (2.3MB)\n",
            "\u001b[K     |████████████████████████████████| 2.3MB 2.8MB/s \n",
            "\u001b[?25hRequirement already satisfied: numpy in /usr/local/lib/python3.6/dist-packages (from Biopython) (1.18.4)\n",
            "Installing collected packages: Biopython\n",
            "Successfully installed Biopython-1.76\n"
          ],
          "name": "stdout"
        }
      ]
    },
    {
      "cell_type": "code",
      "metadata": {
        "id": "z0mBz2W3y5Kp",
        "colab_type": "code",
        "colab": {}
      },
      "source": [
        "import numpy as np\n",
        "import matplotlib.pyplot as plt\n",
        "import pandas as pd\n",
        "from datetime import datetime\n",
        "from Bio import SeqIO"
      ],
      "execution_count": null,
      "outputs": []
    },
    {
      "cell_type": "code",
      "metadata": {
        "id": "OEog9-f6zF95",
        "colab_type": "code",
        "colab": {
          "base_uri": "https://localhost:8080/",
          "height": 34
        },
        "outputId": "4849c90a-062f-473d-abd1-f99d1554efd7"
      },
      "source": [
        "sequences = [s for s in SeqIO.parse(\"aligned_sequence.fasta\", \"fasta\")]\n",
        "metadata = pd.read_csv(r\"metadata.csv\",sep=\"\\t\",parse_dates=[\"Collection Date\"])\n",
        "type(metadata)"
      ],
      "execution_count": null,
      "outputs": [
        {
          "output_type": "execute_result",
          "data": {
            "text/plain": [
              "pandas.core.frame.DataFrame"
            ]
          },
          "metadata": {
            "tags": []
          },
          "execution_count": 4
        }
      ]
    },
    {
      "cell_type": "code",
      "metadata": {
        "id": "bX-p2jrN5yX9",
        "colab_type": "code",
        "colab": {}
      },
      "source": [
        "Accession_list = []\n",
        "for i in range(len(sequences)):\n",
        "  Accession_list.append(sequences[i].id[sequences[i].id.index(':')+1:sequences[i].id.index('|')])\n",
        "print(Accession_list)\n",
        "Accession_l=[]\n",
        "\n",
        "Sequence_df = pd.DataFrame()\n",
        "Sequence_df['Sequence Accession'] = Accession_list\n",
        "for i in Sequence_df['Sequence Accession']:\n",
        "  Accession_l.append(i[:8])\n",
        "print(Accession_l)\n",
        "Sequence_df['Sequence Accession']=Accession_l\n",
        "Sequence_df['Sequence'] = [i.seq for i in sequences]\n",
        "print(Sequence_df)\n",
        "Main_df = pd.merge(metadata, Sequence_df, on='Sequence Accession')\n",
        "#Main_df = Main_df.sort_values(by = ['Collection Date'])\n",
        "\n",
        "#for i in Main_df['Collection Date']:\n",
        "#  i=i[::-1]\n",
        "#Main_df=Main_df[Main_df['Collection Date'].apply(lambda x: len(x) > 8)]\n",
        "#Main_df['Collection Date'] = Main_df['Collection Date'].str[:3]+Main_df['Collection Date'].str[6:]\n",
        "Main_df = Main_df.drop_duplicates(subset=['Collection Date'], keep='first')\n",
        "Main_df = Main_df.reset_index(drop=True)\n",
        "Main_df\n",
        "#Main_df.to_csv(\"USA_filtered.csv\")\n",
        "#training_idxs = Main_df[Main_df['Collection Date'].apply(lambda x: int(x[3:]) <= 2018 )]\n",
        "#training_idxs"
      ],
      "execution_count": null,
      "outputs": []
    },
    {
      "cell_type": "code",
      "metadata": {
        "id": "q-RdVKppqLeS",
        "colab_type": "code",
        "colab": {}
      },
      "source": [
        "Main_df = Main_df[Main_df['Host Species'] == 'IRD:Human']\n",
        "Main_df = Main_df[Main_df['Protein Name'] == 'HA']\n",
        "Main_df = Main_df[Main_df['Subtype'] == 'H1N1']\n",
        "\n",
        "#Training data\n",
        "training_idxs = Main_df[Main_df['Collection Date'].apply(lambda x: int(x[3:]) <= 2019 )].index\n",
        "training_metadata = Main_df[Main_df['Collection Date'].apply(lambda x: int(x[3:]) <= 2019 )]\n",
        "training_sequences = Main_df[Main_df['Collection Date'].apply(lambda x: int(x[3:]) <= 2019 )]['Sequence']\n",
        "\n",
        "#Testing data\n",
        "test_idxs = Main_df[Main_df['Collection Date'].apply(lambda x: int(x[3:]) > 2019 )].index\n",
        "test_metadata = Main_df[Main_df['Collection Date'].apply(lambda x: int(x[3:]) > 2019 )]\n",
        "test_sequences = Main_df[Main_df['Collection Date'].apply(lambda x: int(x[3:]) > 2019 )]['Sequence']\n",
        "print(len(training_idxs))\n",
        "print(len(test_idxs))\n",
        "Main_df['Collection Date']\n",
        "test_metadata"
      ],
      "execution_count": null,
      "outputs": []
    },
    {
      "cell_type": "code",
      "metadata": {
        "id": "RtXvsW2MqVXZ",
        "colab_type": "code",
        "colab": {}
      },
      "source": [
        "from collections import Counter\n",
        "from copy import deepcopy\n",
        "from sklearn.preprocessing import LabelBinarizer\n",
        "\n",
        "\n",
        "def encode_array(sequences):\n",
        "\n",
        "    #To find length of biggest sequence\n",
        "    total_sequence = len(sequences)\n",
        "    max_size_sequence = max(Counter([len(s) for s in sequences]).keys())\n",
        "\n",
        "    #To find common acid that is presant in all amino acids\n",
        "    common_amino_acid = set()\n",
        "    for s in sequences:\n",
        "        common_amino_acid = common_amino_acid.union(set(s))\n",
        "    \n",
        "    #To create one-hot encoding of amino acids that is common in all\n",
        "    one_hot  = LabelBinarizer()\n",
        "    one_hot.fit(list(common_amino_acid))\n",
        "    total_common_amino_acid = len(common_amino_acid)\n",
        "\n",
        "    #To convert sequence into array of character or amino_acids\n",
        "    padded_sequences = deepcopy(sequences)\n",
        "\n",
        "    #Padding\n",
        "    for s in padded_sequences:\n",
        "        while len(s) < max_size_sequence:s.seq+='-'\n",
        "\n",
        "    #Sequence after padding\n",
        "    seq_array = np.chararray(shape=(total_sequence,max_size_sequence),unicode=True)\n",
        "    for i, seq in enumerate(padded_sequences):\n",
        "        seq_array[i, :] = list(seq)\n",
        "\n",
        "    encoded_array = np.zeros(shape=(total_sequence, max_size_sequence*total_common_amino_acid))\n",
        "\n",
        "    for i in range(max_size_sequence):\n",
        "        encoded_array[:,i*total_common_amino_acid:(i+1)*total_common_amino_acid] = one_hot.transform(seq_array[:, i])\n",
        "\n",
        "    return encoded_array"
      ],
      "execution_count": null,
      "outputs": []
    },
    {
      "cell_type": "code",
      "metadata": {
        "id": "UHrjlO90qW1Q",
        "colab_type": "code",
        "colab": {}
      },
      "source": [
        "#sequences=Main_df['Sequence']\n",
        "print(len(sequences[1]))\n",
        "sequence_array = encode_array(sequences)\n",
        "training_array = sequence_array[training_idxs]\n",
        "test_array = sequence_array[test_idxs]\n",
        "print(sequence_array.shape)\n",
        "print(training_array.shape)\n",
        "print(test_array.shape)"
      ],
      "execution_count": null,
      "outputs": []
    },
    {
      "cell_type": "code",
      "metadata": {
        "id": "9uy-iytIqnb9",
        "colab_type": "code",
        "colab": {}
      },
      "source": [
        "import tensorflow as tf\n",
        "from sklearn.model_selection import train_test_split\n",
        "from keras.layers import Input, Dense, Lambda, Dropout\n",
        "from keras.models import Model, model_from_json\n",
        "from keras import backend as K\n",
        "from keras import objectives\n",
        "from keras.callbacks import EarlyStopping"
      ],
      "execution_count": null,
      "outputs": []
    },
    {
      "cell_type": "code",
      "metadata": {
        "id": "eHuMyoPfqo2k",
        "colab_type": "code",
        "colab": {}
      },
      "source": [
        "# Set up VAE.\n",
        "with tf.device('/gpu:0'):\n",
        "\n",
        "    #parameters of model\n",
        "    intermediate_dim = 1000\n",
        "    encoding_dim = 3\n",
        "    latent_dim = encoding_dim\n",
        "    epsilon_std = 1.0\n",
        "    nb_epoch = 2000\n",
        "\n",
        "    x = Input(shape=(training_array.shape[1],))\n",
        "    z_mean = Dense(latent_dim)(x)\n",
        "    z_log_var = Dense(latent_dim)(x)\n",
        "\n",
        "    def sampling(args):\n",
        "        z_mean, z_log_var = args\n",
        "        epsilon = K.random_normal(shape=(latent_dim, ), mean=0.,\n",
        "                                  stddev=epsilon_std)\n",
        "        return z_mean + K.exp(z_log_var / 2) * epsilon\n",
        "\n",
        "    #loss function\n",
        "    def vae_loss(x, x_decoded_mean):\n",
        "        xent_loss = training_array.shape[1] * objectives.binary_crossentropy(x, x_decoded_mean)\n",
        "        kl_loss = - 0.5 * K.sum(1 + z_log_var - K.square(z_mean) - K.exp(z_log_var), axis=-1)\n",
        "        return xent_loss + kl_loss\n",
        "\n",
        "    z = Lambda(sampling, output_shape=(latent_dim,))([z_mean, z_log_var])\n",
        "    x_decoded_mean = Dense(training_array.shape[1], activation='sigmoid')(z_mean)\n",
        "\n",
        "    #variational autoencoder\n",
        "    vae = Model(x, x_decoded_mean)\n",
        "    vae.compile(optimizer='adam', loss=vae_loss)\n",
        "\n",
        "    # build a model to project inputs on the latent space\n",
        "    encoder = Model(x, z_mean)\n",
        "    encoder_var = Model(x, z_log_var)\n",
        "\n",
        "    #train test split\n",
        "    x_train, x_test = train_test_split(training_array)\n",
        "\n",
        "    early_stopping = EarlyStopping(monitor=\"val_loss\", patience=5)\n",
        "\n",
        "\n",
        "    # build the decoder\n",
        "    encoded_input = Input(shape=(encoding_dim,))\n",
        "    # retrieve the last layer of the autoencoder model\n",
        "    decoder_layer = vae.layers[-1]\n",
        "    # create the decoder model\n",
        "    decoder = Model(inputs=encoded_input, outputs=decoder_layer(encoded_input))\n",
        "\n",
        "\n",
        "    # Train the VAE to learn weights\n",
        "    vae.fit(x_train, x_train,\n",
        "            shuffle=True,\n",
        "            epochs=nb_epoch,\n",
        "            validation_data=(x_test, x_test),\n",
        "            callbacks=[early_stopping],\n",
        "           )"
      ],
      "execution_count": null,
      "outputs": []
    },
    {
      "cell_type": "code",
      "metadata": {
        "id": "rTwtOu2OrF6s",
        "colab_type": "code",
        "colab": {}
      },
      "source": [
        "encoder.save('encoder')\n",
        "decoder.save('decoder')\n",
        "\n",
        "from tensorflow import keras\n",
        "encoder = keras.models.load_model('encoder')\n",
        "decoder = keras.models.load_model('decoder')\n",
        "\n",
        "\n",
        "# Testing of encoder and decoder\n",
        "test_embeddings_mean = encoder.predict(test_array)\n",
        "test_binary_mean = decoder.predict(test_embeddings_mean)\n",
        "for i in range(len(test_binary_mean)):\n",
        "  test_binary_mean[i] = test_binary_mean[i].round()"
      ],
      "execution_count": null,
      "outputs": []
    },
    {
      "cell_type": "code",
      "metadata": {
        "id": "vVrmF4F4rPtf",
        "colab_type": "code",
        "colab": {}
      },
      "source": [
        "def right_pad(sequences):\n",
        "    padded_sequences = deepcopy(sequences)\n",
        "    seq_lengths = compute_seq_lengths(sequences)\n",
        "\n",
        "    for s in padded_sequences:\n",
        "        while len(s) < max(seq_lengths.keys()):\n",
        "            s.seq += '*'\n",
        "    return padded_sequences\n",
        "\n",
        "\n",
        "def compute_seq_lengths(sequences):\n",
        "    seq_lengths = [len(s) for s in sequences]\n",
        "    seq_lengths = Counter(seq_lengths)\n",
        "    return seq_lengths\n",
        "\n",
        "\n",
        "def seq2chararray(sequences):\n",
        "    padded_sequences = right_pad(sequences)\n",
        "    seq_lengths = compute_seq_lengths(sequences)\n",
        "    char_array = np.chararray(shape=(len(sequences), max(seq_lengths.keys())),\n",
        "                              unicode=True)\n",
        "    for i, seq in enumerate(padded_sequences):\n",
        "        char_array[i, :] = list(seq)\n",
        "    return char_array\n",
        "\n",
        "\n",
        "def compute_alphabet(sequences):\n",
        "    alphabet = set()\n",
        "    for s in sequences:\n",
        "        alphabet = alphabet.union(set(s))\n",
        "\n",
        "    return alphabet\n",
        "\n",
        "\n",
        "def binary2chararrayold(sequences, binary_array):\n",
        "\n",
        "    alphabet = compute_alphabet(sequences)\n",
        "    seq_lengths = compute_seq_lengths(sequences)\n",
        "    seq_array = seq2chararray(sequences)\n",
        "\n",
        "    lb = LabelBinarizer()\n",
        "    lb.fit(list(alphabet))\n",
        "\n",
        "    char_array = np.chararray(shape=(len(binary_array),\n",
        "                              max(seq_lengths.keys())), unicode=True)\n",
        "\n",
        "    for i in range(seq_array.shape[1]):\n",
        "        char_array[:, i] = lb.inverse_transform(binary_array[:, i*len(alphabet):(i+1)*len(alphabet)])\n",
        "\n",
        "    return char_array\n",
        "\n",
        "    \n",
        "alphabet = compute_alphabet(sequences)\n",
        "seq_lengths = compute_seq_lengths(sequences)\n",
        "seq_array = seq2chararray(sequences)\n",
        "\n",
        "def binary2chararray(binary_array):\n",
        "\n",
        "    lb = LabelBinarizer()\n",
        "    lb.fit(list(alphabet))\n",
        "\n",
        "    char_array = np.chararray(shape=(len(binary_array),\n",
        "                              max(seq_lengths.keys())), unicode=True)\n",
        "\n",
        "    for i in range(seq_array.shape[1]):\n",
        "        char_array[:, i] = lb.inverse_transform(binary_array[:, i*len(alphabet):(i+1)*len(alphabet)])\n",
        "\n",
        "    return char_array"
      ],
      "execution_count": null,
      "outputs": []
    },
    {
      "cell_type": "code",
      "metadata": {
        "id": "kwErGJj-rSoO",
        "colab_type": "code",
        "colab": {}
      },
      "source": [
        "print(test_array.shape)\n",
        "test_embeddings_mean = encoder.predict(test_array)\n",
        "test_binary_mean = decoder.predict(test_embeddings_mean)\n",
        "result=binary2chararray(test_binary_mean)\n",
        "print(test_binary_mean.shape)\n",
        "loop=-1\n",
        "for seq in sequences[13551:]:\n",
        "  positive = 0\n",
        "  negative = 0\n",
        "  loop+=1\n",
        "  for i in range(len(seq)):\n",
        "    if (seq.seq)[i]==result[loop][i]:\n",
        "      positive+=1\n",
        "    else:\n",
        "      negative+=1\n",
        "  print(positive*100/len(seq))\n",
        "x_train = encoder.predict(training_array) #The new training data for our model\n",
        "print(x_train.shape)"
      ],
      "execution_count": null,
      "outputs": []
    },
    {
      "cell_type": "code",
      "metadata": {
        "id": "eB366E8N31-c",
        "colab_type": "code",
        "colab": {}
      },
      "source": [
        "training_embeddings_mean = encoder.predict(training_array)"
      ],
      "execution_count": null,
      "outputs": []
    },
    {
      "cell_type": "code",
      "metadata": {
        "id": "1D_boSY-4BTb",
        "colab_type": "code",
        "colab": {}
      },
      "source": [
        ""
      ],
      "execution_count": null,
      "outputs": []
    },
    {
      "cell_type": "code",
      "metadata": {
        "id": "PQcUsRv0b8Mb",
        "colab_type": "code",
        "colab": {}
      },
      "source": [
        "def plot_series(time, series, format=\"-\", start=0, end=None, label=None):\n",
        "    plt.plot(time[start:end], series[start:end], format, label=label)\n",
        "    plt.xlabel(\"Time\")\n",
        "    plt.ylabel(\"Value\")\n",
        "    if label:\n",
        "        plt.legend(fontsize=14)\n",
        "    plt.grid(True)\n",
        "    "
      ],
      "execution_count": null,
      "outputs": []
    },
    {
      "cell_type": "code",
      "metadata": {
        "id": "IWFit7KYsftg",
        "colab_type": "code",
        "colab": {}
      },
      "source": [
        "#print(training_array.shape)\n",
        "#Convert time series into a dataset\n",
        "def window_dataset(series,window_size,batch_size=16,shuffle_buffer=1000):\n",
        "  ds=tf.data.Dataset.from_tensor_slices(series)\n",
        "  ds=ds.window(window_size+1,shift=1,drop_remainder=True)\n",
        "  ds=ds.flat_map(lambda window: window.batch(window_size+1))\n",
        "  ds=ds.shuffle(shuffle_buffer)\n",
        "  ds=ds.map(lambda window: (window[:-1],window[-1]))\n",
        "  ds=ds.batch(batch_size).prefetch(1)\n",
        "  count=0\n",
        "  #for x, y in ds:\n",
        "  #  print(\"x =\", type(x.numpy())) \n",
        "  #  print(\"y =\", y.numpy())\n",
        "  return ds\n"
      ],
      "execution_count": null,
      "outputs": []
    },
    {
      "cell_type": "code",
      "metadata": {
        "id": "K5nFpb6r6QGY",
        "colab_type": "code",
        "colab": {}
      },
      "source": [
        "tf.keras.backend.clear_session()\n",
        "tf.random.set_seed(42)\n",
        "np.random.seed(42)\n",
        "\n",
        "\n",
        "split_time= 110\n",
        "full_train=x_train\n",
        "x_train=x_train[:split_time]\n",
        "x_valid=full_train[split_time:]\n",
        "print(x_train[0][0])\n",
        "print(x_train[1][0])\n",
        "print(x_train[2][0])\n",
        "\n",
        "\n",
        "t_data=x_train.transpose() # to get whole train data as one row\n",
        "v_data=x_valid.transpose()\n",
        "print(data[0][0:3])\n",
        "\n",
        "\n",
        "#print(type(train_set))\n",
        "#for x,y in train_set\n",
        "\n",
        "window_size=5 #Seasonality taken as 5 timestamps\n",
        "train_set=window_dataset(x_train,5) # Consider 1 window length = 5 time stamps\n",
        "valid_set=window_dataset(x_valid,5)\n",
        "\n",
        "\n",
        "\n",
        "model1_train=t_data[0]\n",
        "\n",
        "model2_train=t_data[1]\n",
        "\n",
        "model3_train=t_data[2]\n",
        "\n",
        "\n",
        "model1_val=v_data[0]\n",
        "\n",
        "model2_val=v_data[1]\n",
        "\n",
        "model3_val=v_data[2]\n",
        "\n",
        "#train_np = np.stack(list(train_set))\n",
        "#val_np = np.stack(list(valid_set))\n",
        "#print(type(train_np), train_np.shape)\n",
        "#print(type(val_np), val_np.shape)\n",
        "#val_np\n",
        "#train_np=train_np.reshape(64,5,3)\n",
        "#len(train_np)\n",
        "#for x,y in train_set:\n",
        "  #np.concatenate(x1,x.numpy())\n",
        "  #print(\"y =\", y.numpy())\n",
        "\n"
      ],
      "execution_count": null,
      "outputs": []
    },
    {
      "cell_type": "code",
      "metadata": {
        "id": "DWqUSy-FKDk9",
        "colab_type": "code",
        "colab": {}
      },
      "source": [
        "tf.keras.backend.clear_session()\n",
        "tf.random.set_seed(42)\n",
        "np.random.seed(42)\n",
        "\n",
        "## Prediciton for model1\n",
        "\n",
        "window_size = 5\n",
        "\n",
        "model1_train_set = window_dataset(model1_train, window_size)\n",
        "model1_val_set = window_dataset(model1_val, window_size)\n",
        "print(model1_train)\n",
        "model = tf.keras.models.Sequential([\n",
        "  tf.keras.layers.Dense(10, activation=\"relu\", input_shape=[window_size]),\n",
        "  tf.keras.layers.Dense(10, activation=\"relu\"),\n",
        "  tf.keras.layers.Dense(1)\n",
        "])\n",
        "optimizer = tf.keras.optimizers.SGD(lr=1e-3, momentum=0.9)\n",
        "model.compile(loss=tf.keras.losses.Huber(),\n",
        "              optimizer=optimizer,\n",
        "              metrics=[\"mae\"])\n",
        "\n",
        "early_stopping = tf.keras.callbacks.EarlyStopping(patience=10)\n",
        "model.fit(model1_train_set, epochs=500,validation_data=model1_val_set,callbacks=[early_stopping])\n",
        "\n"
      ],
      "execution_count": null,
      "outputs": []
    },
    {
      "cell_type": "code",
      "metadata": {
        "id": "3GgUEcwGL0sm",
        "colab_type": "code",
        "colab": {}
      },
      "source": [
        "\n",
        "def model_forecast(model, series, window_size):\n",
        "    ds = tf.data.Dataset.from_tensor_slices(series)\n",
        "    ds = ds.window(window_size, shift=1, drop_remainder=True)\n",
        "    ds = ds.flat_map(lambda w: w.batch(window_size))\n",
        "    ds = ds.batch(16).prefetch(1)\n",
        "    forecast = model.predict(ds)\n",
        "    return forecast\n",
        "\n",
        "model1_forecast = model_forecast(model, full_train.transpose()[0][5 - window_size:-1], window_size)[:, 0]\n",
        "tf.keras.metrics.mean_absolute_error(model1_train, model1_forecast).numpy()"
      ],
      "execution_count": null,
      "outputs": []
    },
    {
      "cell_type": "code",
      "metadata": {
        "id": "d6dtk2spadwv",
        "colab_type": "code",
        "colab": {}
      },
      "source": [
        "time_full=np.arange(527)\n",
        "time_valid=time_full#[527:]\n",
        "plt.figure(figsize=(10, 6))\n",
        "plot_series(time_valid, model1_train)\n",
        "plot_series(time_valid-1, model1_forecast)"
      ],
      "execution_count": null,
      "outputs": []
    },
    {
      "cell_type": "code",
      "metadata": {
        "id": "brK6IgIreHhq",
        "colab_type": "code",
        "colab": {}
      },
      "source": [
        "tf.keras.backend.clear_session()\n",
        "tf.random.set_seed(42)\n",
        "np.random.seed(42)\n",
        "\n",
        "## Prediciton for model2\n",
        "\n",
        "\n",
        "model2_train_set = window_dataset(model2_train, window_size)\n",
        "model2_val_set = window_dataset(model2_val, window_size)\n",
        "\n",
        "model = tf.keras.models.Sequential([\n",
        "  tf.keras.layers.Dense(10, activation=\"relu\", input_shape=[window_size]),\n",
        "  tf.keras.layers.Dense(10, activation=\"relu\"),\n",
        "  tf.keras.layers.Dense(1)\n",
        "])\n",
        "optimizer = tf.keras.optimizers.SGD(lr=1e-3, momentum=0.9)\n",
        "model.compile(loss=tf.keras.losses.Huber(),\n",
        "              optimizer=optimizer,\n",
        "              metrics=[\"mae\"])\n",
        "\n",
        "early_stopping = tf.keras.callbacks.EarlyStopping(patience=10)\n",
        "model.fit(model2_train_set, epochs=500,validation_data=model2_val_set,callbacks=[early_stopping])\n"
      ],
      "execution_count": null,
      "outputs": []
    },
    {
      "cell_type": "code",
      "metadata": {
        "id": "WusrMJc2ek07",
        "colab_type": "code",
        "colab": {}
      },
      "source": [
        "def model_forecast(model, series, window_size):\n",
        "    ds = tf.data.Dataset.from_tensor_slices(series)\n",
        "    ds = ds.window(window_size, shift=1, drop_remainder=True)\n",
        "    ds = ds.flat_map(lambda w: w.batch(window_size))\n",
        "    ds = ds.batch(16).prefetch(1)\n",
        "    forecast = model.predict(ds)\n",
        "    return forecast\n",
        "\n",
        "model2_forecast = model_forecast(model, full_train.transpose()[1][split_time - window_size:-1], window_size)[:, 0]\n",
        "tf.keras.metrics.mean_absolute_error(model2_val, model2_forecast).numpy()\n",
        "\n",
        "plt.figure(figsize=(10, 6))\n",
        "plot_series(time_valid, model2_val)\n",
        "plot_series(time_valid-1, model2_forecast)"
      ],
      "execution_count": null,
      "outputs": []
    },
    {
      "cell_type": "code",
      "metadata": {
        "id": "LLen5PPKfTIV",
        "colab_type": "code",
        "colab": {}
      },
      "source": [
        "tf.keras.backend.clear_session()\n",
        "tf.random.set_seed(42)\n",
        "np.random.seed(42)\n",
        "\n",
        "## Prediciton for model3\n",
        "\n",
        "model3_train_set = window_dataset(model3_train, window_size)\n",
        "model3_val_set = window_dataset(model3_val, window_size)\n",
        "\n",
        "model = tf.keras.models.Sequential([\n",
        "  tf.keras.layers.Dense(10, activation=\"relu\", input_shape=[window_size]),\n",
        "  tf.keras.layers.Dense(10, activation=\"relu\"),\n",
        "  tf.keras.layers.Dense(1)\n",
        "])\n",
        "optimizer = tf.keras.optimizers.SGD(lr=1e-3, momentum=0.9)\n",
        "model.compile(loss=tf.keras.losses.Huber(),\n",
        "              optimizer=optimizer,\n",
        "              metrics=[\"mae\"])\n",
        "\n",
        "early_stopping = tf.keras.callbacks.EarlyStopping(patience=10)\n",
        "model.fit(model3_train_set, epochs=500,validation_data=model3_val_set,callbacks=[early_stopping])\n"
      ],
      "execution_count": null,
      "outputs": []
    },
    {
      "cell_type": "code",
      "metadata": {
        "id": "7_ps56Obf03k",
        "colab_type": "code",
        "colab": {}
      },
      "source": [
        "def model_forecast(model, series, window_size):\n",
        "    ds = tf.data.Dataset.from_tensor_slices(series)\n",
        "    ds = ds.window(window_size, shift=1, drop_remainder=True)\n",
        "    ds = ds.flat_map(lambda w: w.batch(window_size))\n",
        "    ds = ds.batch(16).prefetch(1)\n",
        "    forecast = model.predict(ds)\n",
        "    return forecast\n",
        "\n",
        "model3_forecast = model_forecast(model, full_train.transpose()[2][split_time - window_size:-1], window_size)[:, 0]\n",
        "tf.keras.metrics.mean_absolute_error(model3_val, model3_forecast).numpy()\n",
        "\n",
        "plt.figure(figsize=(10, 6))\n",
        "plot_series(time_valid, model3_val)\n",
        "plot_series(time_valid-1, model3_forecast)"
      ],
      "execution_count": null,
      "outputs": []
    },
    {
      "cell_type": "code",
      "metadata": {
        "id": "w6uBBptnhtDZ",
        "colab_type": "code",
        "colab": {}
      },
      "source": [
        "#x=np.concatenate(model1_forecast,model2_forecast,model3_forecast)\n",
        "model1_forecast[14]\n",
        "x=[model1_forecast[1:4],model2_forecast[1:4],model3_forecast[1:4]]\n",
        "\n",
        "x=np.array(x)\n",
        "print(x.shape)\n",
        "decoded_pred=decoder.predict(x)\n",
        "decoded_pred.shape"
      ],
      "execution_count": null,
      "outputs": []
    },
    {
      "cell_type": "code",
      "metadata": {
        "id": "IpdFkrjrxId2",
        "colab_type": "code",
        "colab": {}
      },
      "source": [
        "string_result=binary2chararray(decoded_pred)\n",
        "print(string_result.shape)\n",
        "loop=0\n",
        "for sequence in sequences[528:531]:\n",
        "  positive = 0\n",
        "  negative = 0\n",
        "  for i in range(len(sequence)):\n",
        "    if (sequence.seq)[i]==string_result[loop][i]:\n",
        "      positive+=1\n",
        "    else:\n",
        "      negative+=1\n",
        "  loop+=1\n",
        "  print(positive*100/len(sequence))\n",
        "  print(negative*100/len(sequence))\n",
        "  print(\"\\n\")"
      ],
      "execution_count": null,
      "outputs": []
    },
    {
      "cell_type": "code",
      "metadata": {
        "id": "PEux65SrCNoR",
        "colab_type": "code",
        "colab": {}
      },
      "source": [
        "loop=0\n",
        "string_result=sequences[1:10]\n",
        "for sequence in sequences[511:520]:\n",
        "  positive = 0\n",
        "  negative = 0\n",
        "  for i in range(len(sequence)):\n",
        "    if (sequence.seq)[i]==string_result[loop][i]:\n",
        "      positive+=1\n",
        "    else:\n",
        "      negative+=1\n",
        "  loop+=1\n",
        "  print(positive)\n",
        "  print(negative)\n",
        "  print(\"\\n\")"
      ],
      "execution_count": null,
      "outputs": []
    },
    {
      "cell_type": "code",
      "metadata": {
        "id": "k5VlNFyX6PB8",
        "colab_type": "code",
        "colab": {}
      },
      "source": [
        "################## LSTM WITH CNN OPTIMIZATION ############ \n",
        "keras=tf.keras\n",
        "def seq2seq_window_dataset(series, window_size, batch_size=32,\n",
        "                           shuffle_buffer=1000):\n",
        "    series = tf.expand_dims(series, axis=-1)\n",
        "    ds = tf.data.Dataset.from_tensor_slices(series)\n",
        "    ds = ds.window(window_size + 1, shift=1, drop_remainder=True)\n",
        "    ds = ds.flat_map(lambda w: w.batch(window_size + 1))\n",
        "    ds = ds.shuffle(shuffle_buffer)\n",
        "    ds = ds.map(lambda w: (w[:-1], w[1:]))\n",
        "    return ds.batch(batch_size).prefetch(1)\n",
        "  \n",
        "\n",
        "def model_forecast(model, series, window_size):\n",
        "    ds = tf.data.Dataset.from_tensor_slices(series)\n",
        "    ds = ds.window(window_size, shift=1, drop_remainder=True)\n",
        "    ds = ds.flat_map(lambda w: w.batch(window_size))\n",
        "    ds = ds.batch(32).prefetch(1)\n",
        "    forecast = model.predict(ds)\n",
        "    return forecast"
      ],
      "execution_count": null,
      "outputs": []
    },
    {
      "cell_type": "code",
      "metadata": {
        "id": "R06BJwm66eQa",
        "colab_type": "code",
        "colab": {}
      },
      "source": [
        "########FOR SPLITTING INTO TRAINING AND VALIDATION DATA#########\n",
        "split_time = 1000\n",
        "time_train = time[:split_time]\n",
        "x_train = series[:split_time]\n",
        "time_valid = time[split_time:]\n",
        "x_valid = series[split_time:]"
      ],
      "execution_count": null,
      "outputs": []
    },
    {
      "cell_type": "code",
      "metadata": {
        "id": "Y8MsScyp65sX",
        "colab_type": "code",
        "colab": {}
      },
      "source": [
        "###Choose Appropiate Learning Rate ###\n",
        "plt.semilogx(history.history[\"lr\"], history.history[\"loss\"])\n",
        "plt.axis([1e-8, 1e-4, 0, 30])"
      ],
      "execution_count": null,
      "outputs": []
    },
    {
      "cell_type": "code",
      "metadata": {
        "id": "jbEILLp47O29",
        "colab_type": "code",
        "colab": {}
      },
      "source": [
        "### PREDICITION MODEL #######\n",
        "\n",
        "keras.backend.clear_session()\n",
        "tf.random.set_seed(42)\n",
        "np.random.seed(42)\n",
        "\n",
        "\n",
        "train_set = seq2seq_window_dataset(x_train, window_size,\n",
        "                                   batch_size=128)\n",
        "valid_set = seq2seq_window_dataset(x_valid, window_size,\n",
        "                                   batch_size=128)\n",
        "\n",
        "model = keras.models.Sequential([\n",
        "  keras.layers.Conv1D(filters=32, kernel_size=5,\n",
        "                      strides=1, padding=\"causal\",\n",
        "                      activation=\"relu\",\n",
        "                      input_shape=[None, 1]),\n",
        "  keras.layers.LSTM(32, return_sequences=True),\n",
        "  keras.layers.LSTM(32, return_sequences=True),\n",
        "  keras.layers.Dense(1),\n",
        "  keras.layers.Lambda(lambda x: x * 20) #####Choose Scaling FACTOR\n",
        "])\n",
        "optimizer = keras.optimizers.SGD(lr=1e-5, momentum=0.9)\n",
        "model.compile(loss=keras.losses.Huber(),\n",
        "              optimizer=optimizer,\n",
        "              metrics=[\"mae\"])\n",
        "\n",
        "model_checkpoint = keras.callbacks.ModelCheckpoint(\n",
        "    \"my_checkpoint.h5\", save_best_only=True)\n",
        "early_stopping = keras.callbacks.EarlyStopping(patience=50)\n",
        "model.fit(train_set, epochs=500,\n",
        "          validation_data=valid_set,\n",
        "          callbacks=[early_stopping, model_checkpoint])"
      ],
      "execution_count": null,
      "outputs": []
    },
    {
      "cell_type": "code",
      "metadata": {
        "id": "TlN0o_TV6_kl",
        "colab_type": "code",
        "colab": {}
      },
      "source": [
        ""
      ],
      "execution_count": null,
      "outputs": []
    }
  ]
}